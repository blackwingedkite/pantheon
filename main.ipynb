{
 "cells": [
  {
   "cell_type": "code",
   "execution_count": 12,
   "metadata": {},
   "outputs": [
    {
     "name": "stderr",
     "output_type": "stream",
     "text": [
      "2024-09-18 10:05:34,423 - INFO - parse page: 0\n"
     ]
    },
    {
     "name": "stdout",
     "output_type": "stream",
     "text": [
      "PDF頁數: 2\n",
      "parse page: 0\n"
     ]
    },
    {
     "name": "stderr",
     "output_type": "stream",
     "text": [
      "2024-09-18 10:05:34,803 - INFO - parse page: 1\n"
     ]
    },
    {
     "name": "stdout",
     "output_type": "stream",
     "text": [
      "parse page: 1\n",
      "Processing 臺灣大學測試.pdf...\n",
      "[                                        ] (0/2===================[====================                    ] (1/2===================[========================================] (2/2]\n",
      "processing page 1, total 2 pages\n",
      "{\"{'bbox': (35.5625, 524.7321166992188, 239.6875, 640.21875), 'rows': 5, 'columns': 3}\": '0_0.png'}\n",
      "illustrating image 0_1.png\n"
     ]
    },
    {
     "name": "stderr",
     "output_type": "stream",
     "text": [
      "2024-09-18 10:05:39,690 - INFO - HTTP Request: POST https://api.openai.com/v1/chat/completions \"HTTP/1.1 200 OK\"\n"
     ]
    },
    {
     "name": "stdout",
     "output_type": "stream",
     "text": [
      "illustrating image 0_2.png\n"
     ]
    },
    {
     "name": "stderr",
     "output_type": "stream",
     "text": [
      "2024-09-18 10:05:43,387 - INFO - HTTP Request: POST https://api.openai.com/v1/chat/completions \"HTTP/1.1 200 OK\"\n"
     ]
    },
    {
     "name": "stdout",
     "output_type": "stream",
     "text": [
      "illustrating table 0_0.png, content: |任別|姓名|任期|...\n"
     ]
    },
    {
     "name": "stderr",
     "output_type": "stream",
     "text": [
      "2024-09-18 10:05:45,329 - INFO - HTTP Request: POST https://api.openai.com/v1/chat/completions \"HTTP/1.1 200 OK\"\n"
     ]
    },
    {
     "name": "stdout",
     "output_type": "stream",
     "text": [
      "--------------------\n",
      "processing page 2, total 2 pages\n",
      "{\"{'bbox': (35.596153259277344, 28.049999237060547, 311.6538391113281, 802.9500122070312), 'rows': 12, 'columns': 4}\": '1_0.png'}\n",
      "illustrating image 1_1.png\n"
     ]
    },
    {
     "name": "stderr",
     "output_type": "stream",
     "text": [
      "2024-09-18 10:05:54,957 - INFO - HTTP Request: POST https://api.openai.com/v1/chat/completions \"HTTP/1.1 200 OK\"\n"
     ]
    },
    {
     "name": "stdout",
     "output_type": "stream",
     "text": [
      "illustrating image 1_2.png\n"
     ]
    },
    {
     "name": "stderr",
     "output_type": "stream",
     "text": [
      "2024-09-18 10:05:59,423 - INFO - HTTP Request: POST https://api.openai.com/v1/chat/completions \"HTTP/1.1 200 OK\"\n"
     ]
    },
    {
     "name": "stdout",
     "output_type": "stream",
     "text": [
      "illustrating image 1_3.png\n"
     ]
    },
    {
     "name": "stderr",
     "output_type": "stream",
     "text": [
      "2024-09-18 10:06:03,817 - INFO - HTTP Request: POST https://api.openai.com/v1/chat/completions \"HTTP/1.1 200 OK\"\n"
     ]
    },
    {
     "name": "stdout",
     "output_type": "stream",
     "text": [
      "illustrating table 1_0.png, content: |任 別|姓名|任期...\n"
     ]
    },
    {
     "name": "stderr",
     "output_type": "stream",
     "text": [
      "2024-09-18 10:06:10,419 - INFO - HTTP Request: POST https://api.openai.com/v1/chat/completions \"HTTP/1.1 200 OK\"\n"
     ]
    },
    {
     "name": "stdout",
     "output_type": "stream",
     "text": [
      "--------------------\n",
      "end of preprocess\n",
      "0 300\n",
      "300 600\n",
      "600 834\n",
      "834 958\n",
      "958 1258\n",
      "1258 1558\n",
      "1558 1804\n",
      "1804 2653\n",
      "2653 2953\n",
      "2953 3081\n",
      "Number of chunks: 10\n",
      "Number of pages in txt_pages_dict: 2\n",
      "9\n",
      "2024/8/28 下午2:25 國立臺\n"
     ]
    },
    {
     "name": "stderr",
     "output_type": "stream",
     "text": [
      "2024-09-18 10:06:25,219 - INFO - HTTP Request: POST https://api.openai.com/v1/embeddings \"HTTP/1.1 200 OK\"\n"
     ]
    },
    {
     "name": "stdout",
     "output_type": "stream",
     "text": [
      "國教育部正式核定改組為國立臺灣大學系統。\n"
     ]
    },
    {
     "name": "stderr",
     "output_type": "stream",
     "text": [
      "2024-09-18 10:06:26,005 - INFO - HTTP Request: POST https://api.openai.com/v1/embeddings \"HTTP/1.1 200 OK\"\n"
     ]
    },
    {
     "name": "stdout",
     "output_type": "stream",
     "text": [
      "灣歐洲聯盟中心總部]([臺英大學聯盟](\n"
     ]
    },
    {
     "name": "stderr",
     "output_type": "stream",
     "text": [
      "2024-09-18 10:06:26,255 - INFO - HTTP Request: POST https://api.openai.com/v1/embeddings \"HTTP/1.1 200 OK\"\n"
     ]
    },
    {
     "name": "stdout",
     "output_type": "stream",
     "text": [
      "|任別|姓名|任期|\n",
      "|---|---|\n"
     ]
    },
    {
     "name": "stderr",
     "output_type": "stream",
     "text": [
      "2024-09-18 10:06:26,880 - INFO - HTTP Request: POST https://api.openai.com/v1/embeddings \"HTTP/1.1 200 OK\"\n"
     ]
    },
    {
     "name": "stdout",
     "output_type": "stream",
     "text": [
      "\n",
      "\n",
      "\n",
      "## 中華民國時期\n",
      "\n",
      "**國立臺灣\n"
     ]
    },
    {
     "name": "stderr",
     "output_type": "stream",
     "text": [
      "2024-09-18 10:06:27,151 - INFO - HTTP Request: POST https://api.openai.com/v1/embeddings \"HTTP/1.1 200 OK\"\n"
     ]
    },
    {
     "name": "stdout",
     "output_type": "stream",
     "text": [
      "ttps://www.ntu.edu.t\n"
     ]
    },
    {
     "name": "stderr",
     "output_type": "stream",
     "text": [
      "2024-09-18 10:06:27,435 - INFO - HTTP Request: POST https://api.openai.com/v1/embeddings \"HTTP/1.1 200 OK\"\n"
     ]
    },
    {
     "name": "stdout",
     "output_type": "stream",
     "text": [
      "域。圖片也提供了臺灣大學的聯絡電話、傳真\n"
     ]
    },
    {
     "name": "stderr",
     "output_type": "stream",
     "text": [
      "2024-09-18 10:06:27,776 - INFO - HTTP Request: POST https://api.openai.com/v1/embeddings \"HTTP/1.1 200 OK\"\n"
     ]
    },
    {
     "name": "stdout",
     "output_type": "stream",
     "text": [
      "|任 別|姓名|任期|備註|\n",
      "|---|\n"
     ]
    },
    {
     "name": "stderr",
     "output_type": "stream",
     "text": [
      "2024-09-18 10:06:28,136 - INFO - HTTP Request: POST https://api.openai.com/v1/embeddings \"HTTP/1.1 200 OK\"\n"
     ]
    },
    {
     "name": "stdout",
     "output_type": "stream",
     "text": [
      "\n",
      "\n",
      "\n",
      "https://zh.wikipe\n"
     ]
    },
    {
     "name": "stderr",
     "output_type": "stream",
     "text": [
      "2024-09-18 10:06:28,454 - INFO - HTTP Request: POST https://api.openai.com/v1/embeddings \"HTTP/1.1 200 OK\"\n"
     ]
    }
   ],
   "source": [
    "from run_parse import  pdf_to_db_nosave, pdf_to_db\n",
    "from embedding import get_or_create_collection\n",
    "import json\n",
    "name = \"臺灣大學測試.pdf\"\n",
    "# chinese_cht\n",
    "my_collection = get_or_create_collection(\"collections_kaisoku\")\n",
    "merged_chunks_page, markdown_to_html, image_dict = pdf_to_db(\n",
    "    pdf_path=name, \n",
    "    chunk_size=300,\n",
    "    model=\"gpt-4o\",\n",
    "    merge_tables=True,\n",
    "    collection=my_collection, \n",
    "    is_ocr=False, \n",
    "    ocr_lang=\"chinese_cht\", \n",
    "    finance=False)"
   ]
  },
  {
   "cell_type": "code",
   "execution_count": 13,
   "metadata": {},
   "outputs": [
    {
     "data": {
      "text/plain": [
       "{'|任別|姓名|任期|\\n|---|---|---|\\n|1|幣原坦|1928年3月－1937年9月|\\n|2|三田定則|1937年9月－1941年4月|\\n|3|安藤正次|1941年4月－1945年3月|\\n|4|安藤一雄|1945年3月－1945年8月|\\n': '```html\\n<!DOCTYPE html>\\n<html>\\n<head>\\n    <meta charset=\"UTF-8\">\\n    <title>任別、姓名、任期</title>\\n    <style>\\n        table {\\n            width: 100%;\\n            border-collapse: collapse;\\n            text-align: center;\\n        }\\n        th, td {\\n            border: 1px solid black;\\n            padding: 8px;\\n        }\\n        th {\\n            background-color: #f2f2f2;\\n        }\\n        td {\\n            padding-top: 12px;\\n            padding-bottom: 12px;\\n        }\\n        .underline {\\n            text-decoration: underline;\\n        }\\n    </style>\\n</head>\\n<body>\\n\\n<h1>任別、姓名、任期</h1>\\n\\n<table>\\n    <tr>\\n        <th>任別</th>\\n        <th>姓名</th>\\n        <th>任期</th>\\n    </tr>\\n    <tr>\\n        <td>1</td>\\n        <td class=\"underline\">幣原坦</td>\\n        <td>1928年3月－1937年9月</td>\\n    </tr>\\n    <tr>\\n        <td>2</td>\\n        <td class=\"underline\">三田定則</td>\\n        <td>1937年9月－1941年4月</td>\\n    </tr>\\n    <tr>\\n        <td>3</td>\\n        <td class=\"underline\">安藤正次</td>\\n        <td>1941年4月－1945年3月</td>\\n    </tr>\\n    <tr>\\n        <td>4</td>\\n        <td class=\"underline\">安藤一雄</td>\\n        <td>1945年3月－1945年8月</td>\\n    </tr>\\n</table>\\n\\n</body>\\n</html>\\n```\\n',\n",
       " '|任 別|姓名|任期|備註|\\n|---|---|---|---|\\n|1|羅宗 洛|1945年8月 －1946年2 月9日 1946年4月9 日－1946年 5月|代理校長，留日植物學家、中 研院院士、曾任南京中央大學 教授|\\n|2|陸志 鴻|1946年8月 13日－1948 年5月31日|留日工學家、曾任南京中央大 學工學院院長|\\n|3|莊長 恭|1948年6月1 日－1948年 8月1日 1948年8月 29日－1948 年12月7日|第1屆中央研究院院士、留美及 留德化學家、曾任南京中央大 學理學院院長。莊校長在8月1 日首度請辭離臺，教務長丁燮 林和醫學院院長兼教務長，8月 29日被慰留回到臺北，12月7 日再次請辭離臺12月15日，發 表傅斯年接任|\\n|代 理|杜聰 明|1948年12月 8日－1949 年1月19日|大清福建臺灣省臺北府淡水縣 三芝人，臺灣醫師、醫學教 授，京都帝國大學醫學博士， 臺灣史上首位醫學博士（哲學 博士等級）。高雄醫學院（今高 雄醫學大學）創辦人，首位臺 灣大學醫學院院長兼臺灣大學 教務長和代理校長。|\\n|4|傅斯 年|1949年1月 20日－1950 年12月20日|第1屆中央研究院院士、留英及 留德歷史學家、曾任北大代理 校長。任內病逝，埋骨於台灣 大學校園內之傅園。|\\n|代 理|沈剛 伯|1950年12月 20日－1951 年3月|留英歷史學家、曾任南京中央 大學文學院院長，教務長兼任 代理校長|\\n|5|錢思 亮|1951年3月－ 1970年6月|中研院院士、留美化學家、曾 任北大教員|\\n|6|閻振 興|1970年6月 －1981年8月|留美水利學家|\\n|7|虞兆 中|1981年8月1 日－1984年 8月|土木工學家|\\n|8|孫震|1984年8月 －1993年2 月27日|留美經濟學家。因出任中華民 國國防部部長而卸任|\\n|代 理|郭光 雄|1993年2月 27日－1993 年6月21日|留日動物學家，教務長兼任代 理校長|\\n': '```html\\n<!DOCTYPE html>\\n<html lang=\"zh-TW\">\\n<head>\\n    <meta charset=\"UTF-8\">\\n    <meta name=\"viewport\" content=\"width=device-width, initial-scale=1.0\">\\n    <style>\\n        table {\\n            width: 100%;\\n            border-collapse: collapse;\\n        }\\n        th, td {\\n            border: 1px solid black;\\n            text-align: center;\\n            padding: 8px;\\n            word-break: break-word;\\n        }\\n        th {\\n            background-color: #f2f2f2;\\n        }\\n    </style>\\n    <title>台灣大學歷任校長</title>\\n</head>\\n<body>\\n    <h2>台灣大學歷任校長</h2>\\n    <table>\\n        <thead>\\n            <tr>\\n                <th>任別</th>\\n                <th>姓名</th>\\n                <th>任期</th>\\n                <th>備註</th>\\n            </tr>\\n        </thead>\\n        <tbody>\\n            <tr>\\n                <td>1</td>\\n                <td>羅宗 洛</td>\\n                <td>1945年8月－1946年2月9日<br>1946年4月9日－1946年5月</td>\\n                <td>代理校長，留日植物學家、中研院院士、曾任南京中央大學教授</td>\\n            </tr>\\n            <tr>\\n                <td>2</td>\\n                <td>陸志 鴻</td>\\n                <td>1946年8月13日－1948年5月31日</td>\\n                <td>留日工學家、曾任南京中央大學工學院院長</td>\\n            </tr>\\n            <tr>\\n                <td>3</td>\\n                <td>莊長 恭</td>\\n                <td>1948年6月1日－1948年8月1日<br>1948年8月29日－1948年12月7日</td>\\n                <td>第1屆中央研究院院士、留美及留德化學家、曾任南京中央大學理學院院長。莊校長在8月1日首度請辭離臺，教務長丁燮林和醫學院院長兼教務長，8月29日被慰留回到臺北，12月7日再次請辭離臺12月15日，發表傅斯年接任</td>\\n            </tr>\\n            <tr>\\n                <td>代理</td>\\n                <td>杜聰 明</td>\\n                <td>1948年12月8日－1949年1月19日</td>\\n                <td>大清福建臺灣省臺北府淡水縣三芝人，臺灣醫師、醫學教授，京都帝國大學醫學博士，臺灣史上首位醫學博士（哲學博士等級）。高雄醫學院（今高雄醫學大學）創辦人，首位臺灣大學醫學院院長兼臺灣大學教務長和代理校長。</td>\\n            </tr>\\n            <tr>\\n                <td>4</td>\\n                <td>傅斯 年</td>\\n                <td>1949年1月20日－1950年12月20日</td>\\n                <td>第1屆中央研究院院士、留英及留德歷史學家、曾任北大代理校長。任內病逝，埋骨於台灣大學校園內之傅園。</td>\\n            </tr>\\n            <tr>\\n                <td>代理</td>\\n                <td>沈剛 伯</td>\\n                <td>1950年12月20日－1951年3月</td>\\n                <td>留英歷史學家、曾任南京中央大學文學院院長，教務長兼任代理校長</td>\\n            </tr>\\n            <tr>\\n                <td>5</td>\\n                <td>錢思 亮</td>\\n                <td>1951年3月－1970年6月</td>\\n                <td>中研院院士、留美化學家、曾任北大教員</td>\\n            </tr>\\n            <tr>\\n                <td>6</td>\\n                <td>閻振 興</td>\\n                <td>1970年6月－1981年8月</td>\\n                <td>留美水利學家</td>\\n            </tr>\\n            <tr>\\n                <td>7</td>\\n                <td>虞兆 中</td>\\n                <td>1981年8月1日－1984年8月</td>\\n                <td>土木工學家</td>\\n            </tr>\\n            <tr>\\n                <td>8</td>\\n                <td>孫震</td>\\n                <td>1984年8月－1993年2月27日</td>\\n                <td>留美經濟學家。因出任中華民國國防部部長而卸任</td>\\n            </tr>\\n            <tr>\\n                <td>代理</td>\\n                <td>郭光 雄</td>\\n                <td>1993年2月27日－1993年6月21日</td>\\n                <td>留日動物學家，教務長兼任代理校長</td>\\n            </tr>\\n        </tbody>\\n    </table>\\n</body>\\n</html>\\n```\\n'}"
      ]
     },
     "execution_count": 13,
     "metadata": {},
     "output_type": "execute_result"
    }
   ],
   "source": [
    "markdown_to_html\n"
   ]
  },
  {
   "cell_type": "code",
   "execution_count": 15,
   "metadata": {},
   "outputs": [
    {
     "name": "stderr",
     "output_type": "stream",
     "text": [
      "2024-09-18 10:08:12,275 - INFO - HTTP Request: POST https://api.openai.com/v1/embeddings \"HTTP/1.1 200 OK\"\n",
      "2024-09-18 10:08:15,449 - INFO - HTTP Request: POST https://api.openai.com/v1/chat/completions \"HTTP/1.1 200 OK\"\n"
     ]
    },
    {
     "name": "stdout",
     "output_type": "stream",
     "text": [
      "根據提供的文本內容，有關國立臺灣大學校長的部分資訊如下：\n",
      "\n",
      "- 管中閔擔任第十二任國立臺灣大學校長，任期從2019年1月8日至2023年1月8日。繼任者為陳文章。\n",
      "- 在管中閔之前的代理校長是郭大維，正任校長是楊泮池。\n",
      "\n",
      "其他詳細的歷任校長列表並未在提供的文本中提及。如果需要更詳細的列表，建議查閱國立臺灣大學的官方資料或相關歷史記錄。\n",
      "[]\n"
     ]
    }
   ],
   "source": [
    "from run_parse import query_and_respond\n",
    "from embedding import get_or_create_collection\n",
    "import json\n",
    "\n",
    "#  if you do not run the first cell, you can dequote the following code to get the result\n",
    "# file_name = \"管中閔拷貝\"\n",
    "# my_collection = get_or_create_collection(\"NTU\")\n",
    "# with open(f\"{file_name}_md2html.json\", 'r') as f:\n",
    "#     markdown_to_html = json.load(f)\n",
    "# image_dict = {}\n",
    "\n",
    "query = \"台大的歷任校長列表\"\n",
    "response, related_image = query_and_respond(query ,my_collection, markdown_to_html,image_dict, k=7)\n",
    "print(response)\n",
    "print(related_image)\n"
   ]
  },
  {
   "cell_type": "code",
   "execution_count": null,
   "metadata": {},
   "outputs": [],
   "source": []
  }
 ],
 "metadata": {
  "kernelspec": {
   "display_name": "Python 3",
   "language": "python",
   "name": "python3"
  },
  "language_info": {
   "codemirror_mode": {
    "name": "ipython",
    "version": 3
   },
   "file_extension": ".py",
   "mimetype": "text/x-python",
   "name": "python",
   "nbconvert_exporter": "python",
   "pygments_lexer": "ipython3",
   "version": "3.12.3"
  }
 },
 "nbformat": 4,
 "nbformat_minor": 2
}
